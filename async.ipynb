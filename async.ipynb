{
 "cells": [
  {
   "cell_type": "code",
   "execution_count": 11,
   "metadata": {},
   "outputs": [
    {
     "name": "stdout",
     "output_type": "stream",
     "text": [
      "3명 중 1명 사용자 조회 중..\n",
      "3명 중 2명 사용자 조회 중..\n",
      "3명 중 3명 사용자 조회 중..\n",
      "> 총 3명 사용자 동기 조회 완료!\n",
      "2명 중 1명 사용자 조회 중..\n",
      "2명 중 2명 사용자 조회 중..\n",
      "> 총 2명 사용자 동기 조회 완료!\n",
      "1명 중 1명 사용자 조회 중..\n",
      "> 총 1명 사용자 동기 조회 완료!\n",
      ">>> 동기 처리 총 소요 시간: 6.062570333480835s\n"
     ]
    }
   ],
   "source": [
    "import time\n",
    "\n",
    "def find_users_sync(n):\n",
    "    for i in range(n):\n",
    "        print(f\"{n}명 중 {i+1}명 사용자 조회 중..\")\n",
    "        time.sleep(1)\n",
    "    print(f\"> 총 {n}명 사용자 동기 조회 완료!\")\n",
    "\n",
    "def process_sync():\n",
    "    start = time.time()\n",
    "    find_users_sync(3)\n",
    "    find_users_sync(2)\n",
    "    find_users_sync(1)\n",
    "    end = time.time()\n",
    "    print(f\">>> 동기 처리 총 소요 시간: {end - start}s\")\n",
    "\n",
    "process_sync()"
   ]
  },
  {
   "cell_type": "markdown",
   "metadata": {},
   "source": [
    "---"
   ]
  },
  {
   "cell_type": "code",
   "execution_count": 13,
   "metadata": {},
   "outputs": [
    {
     "name": "stdout",
     "output_type": "stream",
     "text": [
      "3명 중 1명 사용자 조회 중..\n",
      "2명 중 1명 사용자 조회 중..\n",
      "1명 중 1명 사용자 조회 중..\n",
      "3명 중 2명 사용자 조회 중..\n",
      "2명 중 2명 사용자 조회 중..\n",
      "> 총 1명 사용자 비동기 조회 완료!\n",
      "3명 중 3명 사용자 조회 중..\n",
      "> 총 2명 사용자 비동기 조회 완료!\n",
      "> 총 3명 사용자 비동기 조회 완료!\n",
      ">>> 비동기 처리 총 소요 시간: 3.022538900375366s\n"
     ]
    }
   ],
   "source": [
    "import asyncio\n",
    "\n",
    "async def find_users_async(n):\n",
    "    for i in range(n):\n",
    "        print(f\"{n}명 중 {i+1}명 사용자 조회 중..\")\n",
    "        await asyncio.sleep(1)\n",
    "    print(f\"> 총 {n}명 사용자 비동기 조회 완료!\")\n",
    "\n",
    "async def process_async():\n",
    "    start = time.time()\n",
    "    await asyncio.gather(\n",
    "        find_users_async(3),\n",
    "        find_users_async(2),\n",
    "        find_users_async(1)\n",
    "    )\n",
    "    end = time.time()\n",
    "    print(f\">>> 비동기 처리 총 소요 시간: {end - start}s\")\n",
    "\n",
    "await process_async()"
   ]
  }
 ],
 "metadata": {
  "kernelspec": {
   "display_name": ".venv",
   "language": "python",
   "name": "python3"
  },
  "language_info": {
   "codemirror_mode": {
    "name": "ipython",
    "version": 3
   },
   "file_extension": ".py",
   "mimetype": "text/x-python",
   "name": "python",
   "nbconvert_exporter": "python",
   "pygments_lexer": "ipython3",
   "version": "3.10.6"
  }
 },
 "nbformat": 4,
 "nbformat_minor": 2
}
